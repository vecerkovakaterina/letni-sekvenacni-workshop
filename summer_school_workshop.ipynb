{
 "cells": [
  {
   "cell_type": "markdown",
   "id": "452e6df2",
   "metadata": {},
   "source": [
    "# Co je to Nanopore sekvenování?"
   ]
  },
  {
   "cell_type": "markdown",
   "id": "32f0578b",
   "metadata": {},
   "source": [
    "## Jak to funguje?\n",
    "\n",
    "- Nanopór je maličký otvor v tenké membráně.\n",
    "- Do otvoru se pustí slabý elektrický proud.\n",
    "- Když DNA prochází skrz, **každé písmeno DNA (A, T, C, G)** trochu změní proud.\n",
    "- Tato změna se zaznamenává jako **průbeh signálu**.\n",
    "- Počítač pak z těchto vln pozná, jaká písmena DNA šla dovnitř."
   ]
  },
  {
   "cell_type": "markdown",
   "id": "2839e073",
   "metadata": {},
   "source": [
    "![DNA/RNA sequencng](https://a.storyblok.com/f/196663/640x360/86b5f57ecd/nanopore-sequencing-animation.gif/m/640x360/filters:format(webp))"
   ]
  },
  {
   "cell_type": "markdown",
   "id": "a2f5f203",
   "metadata": {},
   "source": [
    "Podívej se na krátké video (2 minuty):  \n",
    "🔗 [Jak funguje nanopórové sekvenování – od Oxford Nanopore](https://www.youtube.com/watch?v=2C9gRz8OTR8)"
   ]
  },
  {
   "cell_type": "code",
   "execution_count": 14,
   "id": "40f4f65f",
   "metadata": {},
   "outputs": [
    {
     "data": {
      "image/jpeg": "[encoded data removed]",
      "text/html": [
       "\n",
       "        <iframe\n",
       "            width=\"800\"\n",
       "            height=\"450\"\n",
       "            src=\"https://www.youtube.com/embed/RcP85JHLmnI\"\n",
       "            frameborder=\"0\"\n",
       "            allowfullscreen\n",
       "            \n",
       "        ></iframe>\n",
       "        "
      ],
      "text/plain": [
       "<IPython.lib.display.YouTubeVideo at 0x7fa02e469330>"
      ]
     },
     "execution_count": 14,
     "metadata": {},
     "output_type": "execute_result"
    }
   ],
   "source": [
    "from IPython.display import YouTubeVideo\n",
    "\n",
    "YouTubeVideo(\"RcP85JHLmnI\", width=800, height=450)"
   ]
  },
  {
   "cell_type": "markdown",
   "id": "63ca2d81",
   "metadata": {},
   "source": [
    "## Podíváme se na skutečný signál\n",
    "\n",
    "V následujícím grafu uvidíme, jak vypadá **surový signál** ze sekvenátoru."
   ]
  },
  {
   "cell_type": "code",
   "execution_count": null,
   "id": "e0e85abe",
   "metadata": {},
   "outputs": [],
   "source": [
    "import pod5\n",
    "import matplotlib.pyplot as plt\n",
    "import numpy as np\n",
    "\n",
    "# Load a read from a .pod5 file\n",
    "file_path = \"tmp.pod5\"  # replace with your actual file path\n",
    "with pod5.Reader(file_path) as reader:\n",
    "    read = next(reader.reads())\n",
    "    signal = read.signal\n",
    "\n",
    "# Plot the raw signal\n",
    "plt.figure(figsize=(14, 4))\n",
    "plt.plot(signal[:300])  # Plot first 300 signal points\n",
    "plt.title(\"Nanopore Raw Signal from a Single Read\")\n",
    "plt.xlabel(\"Time\")\n",
    "plt.ylabel(\"Current (pA)\")\n",
    "plt.grid(True)\n",
    "plt.show()"
   ]
  },
  {
   "cell_type": "markdown",
   "id": "3ba41895",
   "metadata": {},
   "source": [
    "### Otázky na zamyšlení:\n",
    "\n",
    "**Proč se asi mění signál, když DNA prochází nanopórem?**"
   ]
  },
  {
   "cell_type": "markdown",
   "id": "b212e495",
   "metadata": {},
   "source": [
    "<details>\n",
    "<summary>Odpověď</summary>\n",
    "\n",
    "Každé písmeno DNA má jiný tvar a jinou velikost, takže ovlivňuje proud jinak. Když DNA prochází nanopórem, ovlivňuje proud iontů (např. Na⁺, Cl⁻), který jím prochází. Různé kombinace písmen DNA (tzv. k-mery) mají různý tvar a elektrické vlastnosti, takže každý z nich mění proud jiným způsobem. Počítač pak z těchto změn pozná, která písmena tam byla.\n",
    "\n",
    "</details>"
   ]
  },
  {
   "cell_type": "markdown",
   "id": "952f053f",
   "metadata": {},
   "source": [
    "**Když dostaneme tento signál, jak bys z něj poznal, jaká písmena jsou v DNA?**"
   ]
  },
  {
   "cell_type": "markdown",
   "id": "6fdd2c7f",
   "metadata": {},
   "source": [
    "<details>\n",
    "<summary>Odpověď</summary>\n",
    "Počítač se to učí z tisíců příkladů pomocí umělé inteligence.\n",
    "\n",
    "**Zkus si představit:**\n",
    "Kdybys měl z poslechu hluku určit, co jede po silnici (auto, kolo, autobus), dokážeš to? Nanopór to dělá podobně – rozpoznává, co právě prošlo.\n",
    "</details>"
   ]
  },
  {
   "cell_type": "markdown",
   "id": "c50c4e9d",
   "metadata": {},
   "source": [
    "## Převod signálu na DNA sekvenci – Basecalling\n",
    "\n",
    "Když molekula DNA prochází nanopórem, zaznamenáváme změny elektrického proudu. Tyto změny tvoří tzv. **surový signál** (anglicky *raw signal*), který je uložen v souborech typu `.pod5`.\n",
    "\n",
    "Ale abychom zjistili, jaká písmena DNA (A, T, C, G) odpovídají tomuto signálu, potřebujeme **převodník** – ten se nazývá **basecaller**.\n",
    "\n",
    "## Co dělá basecaller?\n",
    "\n",
    "- Analyzuje průběh elektrického signálu\n",
    "- Pomocí umělé inteligence a trénovaných modelů odhadne, jaké nukleotidy procházely nanopórem\n",
    "- Výsledek je sekvence DNA ve formátu **FASTQ** – tedy:\n",
    "  - Sekvence (např. `AGGCTTAC...`)\n",
    "  - Kvalita každého písmena (číslem vyjádřená jistota)\n",
    "\n",
    "Pro převod použijeme nástroj **Dorado** od Oxford Nanopore Technologies.\n",
    "\n",
    "V další části nejprve ukážeme basecalling jednotlivých čtení v jednom .pod5 souboru, a poté zpracujeme všechna najednou."
   ]
  },
  {
   "cell_type": "code",
   "execution_count": null,
   "id": "1e991510",
   "metadata": {},
   "outputs": [],
   "source": [
    "import subprocess\n",
    "\n",
    "# set the path to the pod5 file, the model and the output\n",
    "pod5_file = \"/path/to/your/file.pod5\"\n",
    "model_path = \"/home/lab33/researchers_night/dna_r10.4.1_e8.2_400bps_sup@v5.0.0/\" # backup model dna_r10.4.1_e8.2_400bps_sup@v4.3.0\n",
    "\n",
    "# TODO test script from ONT PC\n",
    "\n",
    "# Basecalling a single .pod5 file\n",
    "print(\"Basecalling všech čtení v souboru...\")\n",
    "result = subprocess.run(\n",
    "    f\"python3 print_basecalled.py {model_path} {pod5_file}\",\n",
    "    shell=True, stdout=subprocess.PIPE, stderr=subprocess.PIPE, text=True\n",
    ")"
   ]
  },
  {
   "cell_type": "markdown",
   "id": "558baefd",
   "metadata": {},
   "source": [
    "Nyní, když víte, jak basecalling funguje, převedeme (basecallujeme) celý běh najednou."
   ]
  },
  {
   "cell_type": "code",
   "execution_count": 1,
   "id": "8a75ba87",
   "metadata": {},
   "outputs": [],
   "source": [
    "# TODO basecall both healthy control and cancer sample (how many samples?)"
   ]
  },
  {
   "cell_type": "code",
   "execution_count": null,
   "id": "8be0c33a",
   "metadata": {},
   "outputs": [],
   "source": [
    "import subprocess\n",
    "\n",
    "# Set directory containing .pod5 files from the run\n",
    "pod5_dir = \"/path/to/pod5_directory\"\n",
    "model_path = \"/home/lab33/researchers_night/dna_r10.4.1_e8.2_400bps_sup@v5.0.0/\" # backup model dna_r10.4.1_e8.2_400bps_sup@v4.3.0\n",
    "output_bam = \"basecalled_all_reads.bam\"\n",
    "output_fasta = \"basecalled_all_reads.fastq\"\n",
    "\n",
    "# Basecall all .pod5 files in the directory\n",
    "print(\"Basecalling všech čtení...\")\n",
    "result = subprocess.run(\n",
    "    f\"dorado basecaller --min-qscore 25 {model_path} {pod5_dir}/*.pod5 > {output_bam}\",\n",
    "    shell=True, stdout=subprocess.PIPE, stderr=subprocess.PIPE, text=True\n",
    ")"
   ]
  },
  {
   "cell_type": "code",
   "execution_count": null,
   "id": "879f30cd",
   "metadata": {},
   "outputs": [],
   "source": [
    "# Convert to FASTQ\n",
    "print(\"Převádím výstup na FASTQ...\")\n",
    "subprocess.run(f\"samtools fastq {output_bam} > {output_fastq}\", shell=True)\n",
    "print(f\"Hotovo. FASTQ výstup uložen do: {output_fastq}\")"
   ]
  },
  {
   "cell_type": "markdown",
   "id": "8c305d71",
   "metadata": {},
   "source": [
    "### Co je ve FASTQ souboru?\n",
    "\n",
    "Soubor `.fastq` obsahuje výsledky sekvenování – tedy čtení DNA. Každé čtení má 4 řádky:\n",
    "\n",
    "1. `@` a název čtení\n",
    "2. Sekvence DNA (např. `ACGTTG...`)\n",
    "3. `+` jako oddělovač\n",
    "4. Kvalita jednotlivých bází (čím vyšší znak, tím vyšší jistota)"
   ]
  },
  {
   "cell_type": "code",
   "execution_count": null,
   "id": "f29a087f",
   "metadata": {},
   "outputs": [],
   "source": [
    "!head -n 24 basecalled_reads.fastq"
   ]
  },
  {
   "cell_type": "markdown",
   "id": "7f38a90a",
   "metadata": {},
   "source": [
    "### Zkus si: K jakému organismu patří náš vzorek?\n",
    "\n",
    "1. Vyber jednu ze sekvencí výše\n",
    "2. Zkopíruj ji a vlož do nástroje [NCBI BLAST (nucleotide)](https://blast.ncbi.nlm.nih.gov/Blast.cgi?PAGE_TYPE=BlastSearch&PROGRAM=blastn)\n",
    "3. Stiskni \"BLAST\"\n",
    "4. Sleduj, jak databáze najde podobné sekvence a řekne ti, odkud pochází"
   ]
  },
  {
   "cell_type": "markdown",
   "id": "6415e96d",
   "metadata": {},
   "source": [
    "### Zamysli se\n",
    "\n",
    "- Jsou některé čtení delší než jiné?\n",
    "- Všimni si, že některá čtení mají horší kvalitu (nižší znaky ve 4. řádku), použij [tabulku vysvětlující  Phred skóre](https://en.wikipedia.org/wiki/Phred_quality_score)\n",
    "- Co se asi stane, když pošleme do BLASTu krátké vs. dlouhé čtení?"
   ]
  },
  {
   "cell_type": "markdown",
   "id": "81c3fe0c",
   "metadata": {},
   "source": [
    "<details>\n",
    "<summary>Odpověď</summary>\n",
    "\n",
    "- Ano, délka čtení se může lišit. Nanopore umožňuje číst velmi dlouhé úseky DNA, ale některá čtení mohou být přerušena dříve.\n",
    "- Znaky ve 4. řádku ukazují kvalitu každé báze. Nižší znaky znamenají nižší jistotu – mohou být způsobeny šumem v signálu.\n",
    "- Krátká čtení mají menší šanci najít jednoznačný výsledek v BLASTu – mohou se hodit k více oblastem v různých genomech. Delší čtení jsou často specifičtější a dají lepší nápovědu o původu vzorku.\n",
    "\n",
    "</details>"
   ]
  },
  {
   "cell_type": "markdown",
   "id": "770def18",
   "metadata": {},
   "source": [
    "## Jak se liší genetická informace zdravého člověka a onkopacienta?"
   ]
  },
  {
   "cell_type": "markdown",
   "id": "34d5859a",
   "metadata": {},
   "source": [
    "### Co je to karyotyp a proč ho zkoumáme?\n",
    "\n",
    "Každá lidská buňka (kromě pohlavních buněk) obsahuje 46 chromozomů – to je náš karyotyp. Chromozomy jsou \"balíčky\" DNA, které nesou naši genetickou informaci. Zdravé buňky mají kompletní a správně uspořádaný karyotyp – 23 párů chromozomů, žádné navíc, žádné chybějící části.\n",
    "\n",
    "U nádorových buněk ale často dochází ke změnám – mohou mít některé chromozomy zdvojené, ztracené, přeskupené nebo přerušené. Takové změny označujeme jako chromozomální aberace, a jsou jedním z typických znaků rakovinných buněk. Právě proto se karyotyp nádorových buněk zkoumá – může nám napovědět, co je v buňce špatně a jak rakovina vznikla."
   ]
  },
  {
   "cell_type": "markdown",
   "id": "db9f9ae1",
   "metadata": {},
   "source": [
    "### Jak to zjistíme pomocí sekvenování\n",
    "\n",
    "Pomocí nanopórového sekvenování DNA získáme dlouhé úseky genetické informace z jednotlivých chromozomů. Výsledkem je obrovské množství \"čtení\" – krátkých úseků DNA, které se zpětně skládají na jednotlivé chromozomy lidského genomu.\n",
    "\n",
    "Při analýze sledujeme tzv. pokrytí (coverage) – tedy kolik čtení se mapuje na jednotlivé části každého chromozomu. Pokud má nějaký chromozom vyšší pokrytí, může to znamenat, že je v buňce zdvojený. Naopak nižší pokrytí může naznačovat ztrátu části nebo celého chromozomu."
   ]
  },
  {
   "cell_type": "markdown",
   "id": "aa27b50d",
   "metadata": {},
   "source": [
    "### Proč porovnáváme zdravé a nádorové buňky?\n",
    "\n",
    "Porovnáním karyotypu zdravých pacientů a onkopacientů můžeme zjistit, které chromozomy nebo jejich části jsou v nádorových buňkách změněné. To nám pomáhá pochopit, co se v buňkách děje při vzniku rakoviny, a může to být i důležitý krok ke zlepšení diagnostiky nebo léčby."
   ]
  }
 ],
 "metadata": {
  "kernelspec": {
   "display_name": "myenv",
   "language": "python",
   "name": "python3"
  },
  "language_info": {
   "codemirror_mode": {
    "name": "ipython",
    "version": 3
   },
   "file_extension": ".py",
   "mimetype": "text/x-python",
   "name": "python",
   "nbconvert_exporter": "python",
   "pygments_lexer": "ipython3",
   "version": "3.10.17"
  }
 },
 "nbformat": 4,
 "nbformat_minor": 5
}
