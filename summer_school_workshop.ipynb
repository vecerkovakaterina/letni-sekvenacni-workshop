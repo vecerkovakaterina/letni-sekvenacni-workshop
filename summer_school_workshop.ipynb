{
 "cells": [
  {
   "cell_type": "markdown",
   "id": "18a048b0",
   "metadata": {},
   "source": [
    "# Letní sekvenační workshop"
   ]
  },
  {
   "cell_type": "markdown",
   "id": "452e6df2",
   "metadata": {},
   "source": [
    "## Jak funguje Nanopore sekvenování?"
   ]
  },
  {
   "cell_type": "markdown",
   "id": "63ca2d81",
   "metadata": {},
   "source": [
    "### Jak vypadá signál?"
   ]
  },
  {
   "cell_type": "markdown",
   "id": "3eb4e8a6",
   "metadata": {},
   "source": []
  }
 ],
 "metadata": {
  "kernelspec": {
   "display_name": "myenv",
   "language": "python",
   "name": "python3"
  },
  "language_info": {
   "codemirror_mode": {
    "name": "ipython",
    "version": 3
   },
   "file_extension": ".py",
   "mimetype": "text/x-python",
   "name": "python",
   "nbconvert_exporter": "python",
   "pygments_lexer": "ipython3",
   "version": "3.10.17"
  }
 },
 "nbformat": 4,
 "nbformat_minor": 5
}
