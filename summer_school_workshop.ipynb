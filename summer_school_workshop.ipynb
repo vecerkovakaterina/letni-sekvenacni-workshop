{
 "cells": [
  {
   "cell_type": "markdown",
   "id": "452e6df2",
   "metadata": {},
   "source": [
    "# Co je to Nanopore sekvenování?"
   ]
  },
  {
   "cell_type": "markdown",
   "id": "32f0578b",
   "metadata": {},
   "source": [
    "## Jak to funguje?\n",
    "\n",
    "- Nanopór je maličký otvor v tenké membráně.\n",
    "- Skrz nanopór protéká elektrolyt a tím i slabý elektrický proud.\n",
    "- Když DNA prochází skrz pór, **každý DNA nukleotid (A, T, C, G)** trochu změní proud. Každý jiným způsobem.\n",
    "- Tato změna se zaznamenává jako **průběh signálu**.\n",
    "- Počítač pak z tohoto signálu pozná, jaká písmena DNA šla dovnitř."
   ]
  },
  {
   "cell_type": "markdown",
   "id": "a2f5f203",
   "metadata": {},
   "source": [
    "Podívej se na krátké video (2 minuty):  \n",
    "🔗 [Jak funguje nanopórové sekvenování – od Oxford Nanopore](https://www.youtube.com/watch?v=2C9gRz8OTR8)"
   ]
  },
  {
   "cell_type": "code",
   "execution_count": null,
   "id": "40f4f65f",
   "metadata": {},
   "outputs": [],
   "source": [
    "from IPython.display import YouTubeVideo\n",
    "\n",
    "YouTubeVideo(\"RcP85JHLmnI\", width=800, height=450)"
   ]
  },
  {
   "cell_type": "markdown",
   "id": "63ca2d81",
   "metadata": {},
   "source": [
    "## Podíváme se na skutečný signál\n",
    "\n",
    "V následujícím grafu uvidíme, jak vypadá **surový signál** ze sekvenátoru."
   ]
  },
  {
   "cell_type": "code",
   "execution_count": null,
   "id": "e0e85abe",
   "metadata": {},
   "outputs": [],
   "source": [
    "import pod5\n",
    "import matplotlib.pyplot as plt\n",
    "import numpy as np\n",
    "import pandas as pd\n",
    "import plotly.express as px\n",
    "import plotly.offline as pyo\n",
    "pyo.init_notebook_mode()\n",
    "\n",
    "# načteme ready z .pod5 souboru\n",
    "file_path = \"temp.pod5\"\n",
    "with pod5.Reader(file_path) as reader:\n",
    "    read = next(reader.reads())\n",
    "    signal = read.signal\n",
    "\n",
    "# vykreslíme surový signál\n",
    "plt.figure(figsize=(14, 4))\n",
    "plt.plot(signal[:300])  # Plot first 300 signal points\n",
    "plt.title(\"Hrubý signál jednoho čtení z Nanopore\")\n",
    "plt.xlabel(\"Čas\")\n",
    "plt.ylabel(\"Proud (pA)\")\n",
    "plt.grid(True)\n",
    "plt.show()"
   ]
  },
  {
   "cell_type": "markdown",
   "id": "3ba41895",
   "metadata": {},
   "source": [
    "### Otázky na zamyšlení:\n",
    "\n",
    "**Proč se mění signál, když DNA prochází nanopórem?**"
   ]
  },
  {
   "cell_type": "markdown",
   "id": "b212e495",
   "metadata": {},
   "source": [
    "<details>\n",
    "<summary>Odpověď</summary>\n",
    "\n",
    "Každé písmeno DNA má jiný tvar a jinou velikost, takže ovlivňuje proud jinak. Když DNA prochází nanopórem, ovlivňuje proud iontů (např. Na⁺, Cl⁻), který jím prochází. Různé kombinace písmen DNA (tzv. k-mery) mají různý tvar a elektrické vlastnosti, takže každý z nich mění proud jiným způsobem. Počítač pak z těchto změn pozná, která písmena tam byla.\n",
    "\n",
    "![DNA nukleotidy](nucleotide-bases-from-structure-to-modifications-1.jpg)\n",
    "</details>"
   ]
  },
  {
   "cell_type": "markdown",
   "id": "952f053f",
   "metadata": {},
   "source": [
    "**Když dostaneme tento signál, jak bys z něj poznal, jaká písmena jsou v DNA?**"
   ]
  },
  {
   "cell_type": "markdown",
   "id": "6fdd2c7f",
   "metadata": {},
   "source": [
    "<details>\n",
    "<summary>Odpověď</summary>\n",
    "Počítač se to učí z tisíců příkladů pomocí umělé inteligence.\n",
    "\n",
    "**Zkus si představit:**\n",
    "Kdybys měl z poslechu hluku určit, co jede po silnici (auto, kolo, autobus), dokážeš to? Nanopór to dělá podobně – rozpoznává, co právě prošlo.\n",
    "</details>"
   ]
  },
  {
   "cell_type": "markdown",
   "id": "c50c4e9d",
   "metadata": {
    "jupyter": {
     "source_hidden": true
    }
   },
   "source": [
    "## Převod signálu na DNA sekvenci – Basecalling\n",
    "\n",
    "Když molekula DNA prochází nanopórem, zaznamenáváme změny elektrického proudu. Tyto změny tvoří tzv. **surový signál** (anglicky *raw signal*), který je uložen v souborech typu `.pod5`.\n",
    "\n",
    "Ale abychom zjistili, jaká písmena DNA (A, T, C, G) odpovídají tomuto signálu, potřebujeme **převodník** – ten se nazývá **basecaller**.\n",
    "\n",
    "## Co dělá basecaller?\n",
    "\n",
    "- Analyzuje průběh elektrického signálu\n",
    "- Pomocí umělé inteligence a trénovaných modelů odhadne, jaké nukleotidy procházely nanopórem\n",
    "- Výsledek je sekvence DNA ve formátu **FASTQ** – tedy:\n",
    "  - Sekvence (např. `AGGCTTAC...`)\n",
    "  - Kvalita každého písmena (číslem vyjádřená jistota)\n",
    "\n",
    "Pro převod použijeme nástroj **Dorado** od Oxford Nanopore Technologies.\n",
    "\n",
    "V další části nejprve ukážeme basecalling jednotlivých čtení v jednom .pod5 souboru, a poté zpracujeme všechna najednou."
   ]
  },
  {
   "cell_type": "code",
   "execution_count": null,
   "id": "d5a298da",
   "metadata": {},
   "outputs": [],
   "source": [
    "# (beží asi 15 minut)\n",
    "# !python3 print_basecalled.py /home/lab33/researchers_night/dna_r10.4.1_e8.2_400bps_sup@v5.0.0/ temp.pod5 # TODO upravit cestu"
   ]
  },
  {
   "cell_type": "markdown",
   "id": "8c305d71",
   "metadata": {},
   "source": [
    "### Co je ve FASTQ souboru?\n",
    "\n",
    "Soubor `.fastq` obsahuje výsledky sekvenování – tedy čtení DNA. Každé čtení má 4 řádky:\n",
    "\n",
    "1. `@` a název čtení\n",
    "2. Sekvence DNA (např. `ACGTTG...`)\n",
    "3. `+` jako oddělovač\n",
    "4. Kvalita jednotlivých bází (čím vyšší ASCII znak, tím vyšší jistota)"
   ]
  },
  {
   "cell_type": "code",
   "execution_count": null,
   "id": "f29a087f",
   "metadata": {},
   "outputs": [],
   "source": [
    "!zcat /var/lib/minknow/data/2025_07_15_NUVR_RB0/no_sample_id/20250715_1449_P2S-02648-B_PBC42512_57bb6767/fastq_pass/barcode06/PBC42512_pass_barcode06_57bb6767_39d08f64_0.fastq.gz | head -n 24 # TODO upravit cestu"
   ]
  },
  {
   "cell_type": "markdown",
   "id": "7f38a90a",
   "metadata": {},
   "source": [
    "### Zkus si: K jakému organismu patří náš vzorek?\n",
    "\n",
    "1. Vyber jednu ze sekvencí výše\n",
    "2. Zkopíruj ji a vlož do nástroje [NCBI BLAST (nucleotide)](https://blast.ncbi.nlm.nih.gov/Blast.cgi?PAGE_TYPE=BlastSearch&PROGRAM=blastn)\n",
    "3. Stiskni \"BLAST\"\n",
    "4. Sleduj, jak databáze najde podobné sekvence a řekne ti, odkud pochází"
   ]
  },
  {
   "cell_type": "markdown",
   "id": "6415e96d",
   "metadata": {},
   "source": [
    "### Zamysli se\n",
    "\n",
    "- Jsou některé čtení delší než jiné?\n",
    "- Všimni si, že některá čtení mají horší kvalitu (nižší znaky ve 4. řádku), použij [tabulku vysvětlující  Phred skóre](https://en.wikipedia.org/wiki/Phred_quality_score)\n",
    "- Co se asi stane, když pošleme do BLASTu krátké vs. dlouhé čtení?"
   ]
  },
  {
   "cell_type": "markdown",
   "id": "81c3fe0c",
   "metadata": {},
   "source": [
    "<details>\n",
    "<summary>Odpověď</summary>\n",
    "\n",
    "- Ano, délka čtení se může lišit. Nanopore umožňuje číst velmi dlouhé úseky DNA, ale některá čtení mohou být přerušena dříve.\n",
    "- Znaky ve 4. řádku ukazují kvalitu každé báze. Nižší znaky znamenají nižší jistotu – mohou být způsobeny šumem v signálu.\n",
    "- Krátká čtení mají menší šanci najít jednoznačný výsledek v BLASTu – mohou se hodit k více oblastem v různých genomech. Delší čtení jsou často specifičtější a dají lepší nápovědu o původu vzorku.\n",
    "\n",
    "</details>"
   ]
  },
  {
   "cell_type": "markdown",
   "id": "770def18",
   "metadata": {},
   "source": [
    "## Jak se liší genetická informace zdravého člověka a onkopacienta?"
   ]
  },
  {
   "cell_type": "markdown",
   "id": "34d5859a",
   "metadata": {},
   "source": [
    "### Co je to karyotyp a proč ho zkoumáme?\n",
    "\n",
    "Každá lidská buňka (kromě pohlavních buněk) obsahuje 46 chromozomů – to je náš karyotyp. Chromozomy jsou \"balíčky\" DNA, které nesou naši genetickou informaci. Zdravé buňky mají kompletní a správně uspořádaný karyotyp – 23 párů chromozomů, žádné navíc, žádné chybějící části.\n",
    "\n",
    "U nádorových buněk ale často dochází ke změnám – mohou mít některé chromozomy zdvojené, ztracené, přeskupené nebo přerušené. Takové změny označujeme jako chromozomální aberace, a jsou jedním z typických znaků rakovinných buněk. Právě proto se karyotyp nádorových buněk zkoumá – může nám napovědět, co je v buňce špatně a jak rakovina vznikla.\n",
    "\n",
    "![Lidský karyotyp](Figure_13_03_01.jpg)"
   ]
  },
  {
   "cell_type": "markdown",
   "id": "db9f9ae1",
   "metadata": {},
   "source": [
    "### Jak to zjistíme pomocí sekvenování\n",
    "\n",
    "Pomocí nanopórového sekvenování DNA získáme dlouhé náhodně vybrané úseky genetické informace z jednotlivých chromozomů. Výsledkem je obrovské množství \"čtení\" – krátkých úseků DNA, které se zpětně zarovnají na jednotlivé chromozomy lidského genomu.\n",
    "\n",
    "Při analýze sledujeme tzv. pokrytí (coverage) – tedy kolik čtení se mapuje na jednotlivé části každého chromozomu. Pokud má nějaký chromozom vyšší pokrytí, může to znamenat, že je v buňce zdvojený. Naopak nižší pokrytí může naznačovat ztrátu části nebo celého chromozomu."
   ]
  },
  {
   "cell_type": "markdown",
   "id": "aa27b50d",
   "metadata": {},
   "source": [
    "### Proč porovnáváme zdravé a nádorové buňky?\n",
    "\n",
    "Porovnáním karyotypu zdravých pacientů a onkopacientů můžeme zjistit, které chromozomy nebo jejich části jsou v nádorových buňkách změněné. To nám pomáhá pochopit, co se v buňkách děje při vzniku rakoviny, a může to být i důležitý krok ke zlepšení diagnostiky nebo léčby."
   ]
  },
  {
   "cell_type": "markdown",
   "id": "d3993e42",
   "metadata": {},
   "source": [
    "### Jak získáme pokrytí jednotlivých chromozomů?\n",
    "\n",
    "Abychom mohli porovnat karyotyp zdravého a nemocného člověka, potřebujeme nejprve jejich sekvenovanou DNA zarovnat na referenční lidský genom – tedy na \"mapu\" správně uspořádané lidské DNA, kterou vědci sestavili.\n",
    "\n",
    "Zarovnání na referenci: Pomocí bioinformatických nástrojů (např. minimap2) zarovnáme všechna přečtení DNA (tzv. \"reads\") ke správnému místu v lidském genomu.\n"
   ]
  },
  {
   "cell_type": "code",
   "execution_count": null,
   "id": "07a12cd2",
   "metadata": {},
   "outputs": [],
   "source": [
    "# nastavíme cesty k souborům\n",
    "# TODO upravit cesty k souborům\n",
    "test1 = \"/var/lib/minknow/data/2025_07_15_NUVR_RB0/no_sample_id/20250715_1449_P2S-02648-B_PBC42512_57bb6767/fastq_pass/barcode06\"\n",
    "test2 = \"/var/lib/minknow/data/2025_07_15_NUVR_RB0/no_sample_id/20250715_1449_P2S-02648-B_PBC42512_57bb6767/fastq_pass/barcode08\"\n",
    "\n",
    "healthy_control_rep1_fastq = test1\n",
    "cancer_sample1_rep1_fastq = test2\n",
    "cancer_sample2_rep1_fastq = test2\n",
    "\n",
    "healthy_control_rep2_fastq = test1\n",
    "cancer_sample1_rep2_fastq = test1\n",
    "cancer_sample2_rep2_fastq = test1\n",
    "\n",
    "healthy_control_rep3_fastq = test2\n",
    "cancer_sample1_rep3_fastq = test2\n",
    "cancer_sample2_rep3_fastq = test2\n",
    "\n",
    "reference_genome = \"Homo_sapiens.GRCh38.dna.toplevel.fa.gz\""
   ]
  },
  {
   "cell_type": "code",
   "execution_count": null,
   "id": "6397eb78",
   "metadata": {},
   "outputs": [],
   "source": [
    "# spojíme všechny fastq soubory stejného vzorku do jednoho souboru\n",
    "# TODO upravit cesty k souborum\n",
    "!cat \"$healthy_control_rep1_fastq\"/PBC42512_pass_barcode06_57bb6767_39d08f64_*.fastq.gz > healthy_control_rep1.fastq.gz\n",
    "!cat \"$cancer_sample1_rep1_fastq\"/PBC42512_pass_barcode08_57bb6767_39d08f64_*.fastq.gz > cancer_sample1_rep1.fastq.gz\n",
    "!cat \"$cancer_sample2_rep1_fastq\"/PBC42512_pass_barcode08_57bb6767_39d08f64_*.fastq.gz > cancer_sample2_rep1.fastq.gz\n",
    "\n",
    "!cat \"$healthy_control_rep2_fastq\"/PBC42512_pass_barcode06_57bb6767_39d08f64_*.fastq.gz > healthy_control_rep2.fastq.gz\n",
    "!cat \"$cancer_sample1_rep2_fastq\"/PBC42512_pass_barcode06_57bb6767_39d08f64_*.fastq.gz > cancer_sample1_rep2.fastq.gz\n",
    "!cat \"$cancer_sample2_rep2_fastq\"/PBC42512_pass_barcode06_57bb6767_39d08f64_*.fastq.gz > cancer_sample2_rep2.fastq.gz\n",
    "\n",
    "!cat \"$healthy_control_rep3_fastq\"/PBC42512_pass_barcode08_57bb6767_39d08f64_*.fastq.gz > healthy_control_rep3.fastq.gz\n",
    "!cat \"$cancer_sample1_rep3_fastq\"/PBC42512_pass_barcode08_57bb6767_39d08f64_*.fastq.gz > cancer_sample1_rep3.fastq.gz\n",
    "!cat \"$cancer_sample2_rep3_fastq\"/PBC42512_pass_barcode08_57bb6767_39d08f64_*.fastq.gz > cancer_sample2_rep3.fastq.gz"
   ]
  },
  {
   "cell_type": "code",
   "execution_count": null,
   "id": "14e7753a",
   "metadata": {},
   "outputs": [],
   "source": [
    "# namapujeme čtení na referenční lidský genom\n",
    "!minimap2 -ax map-ont -t 12 \"$reference_genome\" healthy_control_rep1.fastq.gz | samtools sort -o healthy_control_rep1.sorted.bam && samtools index healthy_control_rep1.sorted.bam\n",
    "!minimap2 -ax map-ont -t 12 \"$reference_genome\" cancer_sample1_rep1.fastq.gz | samtools sort -o cancer_sample1_rep1.sorted.bam && samtools index cancer_sample1_rep1.sorted.bam\n",
    "!minimap2 -ax map-ont -t 12 \"$reference_genome\" cancer_sample2_rep1.fastq.gz | samtools sort -o cancer_sample2_rep1.sorted.bam && samtools index cancer_sample2_rep1.sorted.bam\n",
    "\n",
    "!minimap2 -ax map-ont -t 12 \"$reference_genome\" healthy_control_rep2.fastq.gz | samtools sort -o healthy_control_rep2.sorted.bam && samtools index healthy_control_rep2.sorted.bam\n",
    "!minimap2 -ax map-ont -t 12 \"$reference_genome\" cancer_sample1_rep2.fastq.gz | samtools sort -o cancer_sample1_rep2.sorted.bam && samtools index cancer_sample1_rep2.sorted.bam\n",
    "!minimap2 -ax map-ont -t 12 \"$reference_genome\" cancer_sample2_rep2.fastq.gz | samtools sort -o cancer_sample2_rep2.sorted.bam && samtools index cancer_sample2_rep2.sorted.bam\n",
    "\n",
    "!minimap2 -ax map-ont -t 12 \"$reference_genome\" healthy_control_rep3.fastq.gz | samtools sort -o healthy_control_rep3.sorted.bam && samtools index healthy_control_rep3.sorted.bam\n",
    "!minimap2 -ax map-ont -t 12 \"$reference_genome\" cancer_sample1_rep3.fastq.gz | samtools sort -o cancer_sample1_rep3.sorted.bam && samtools index cancer_sample1_rep3.sorted.bam\n",
    "!minimap2 -ax map-ont -t 12 \"$reference_genome\" cancer_sample2_rep3.fastq.gz | samtools sort -o cancer_sample2_rep3.sorted.bam && samtools index cancer_sample2_rep3.sorted.bam"
   ]
  },
  {
   "cell_type": "code",
   "execution_count": null,
   "id": "074517ea",
   "metadata": {},
   "outputs": [],
   "source": [
    "# vyfiltrujeme pouze kvalitně namapovaná čtení\n",
    "!samtools view -F 2308 healthy_control_rep1.sorted.bam -o healthy_control_rep1.primary_mapped.sorted.bam && samtools index healthy_control_rep1.primary_mapped.sorted.bam\n",
    "!samtools view -F 2308 cancer_sample1_rep1.sorted.bam -o cancer_sample1_rep1.primary_mapped.sorted.bam && samtools index cancer_sample1_rep1.primary_mapped.sorted.bam\n",
    "!samtools view -F 2308 cancer_sample2_rep1.sorted.bam -o cancer_sample2_rep1.primary_mapped.sorted.bam && samtools index cancer_sample2_rep1.primary_mapped.sorted.bam\n",
    "\n",
    "!samtools view -F 2308 healthy_control_rep2.sorted.bam -o healthy_control_rep2.primary_mapped.sorted.bam && samtools index healthy_control_rep2.primary_mapped.sorted.bam\n",
    "!samtools view -F 2308 cancer_sample1_rep2.sorted.bam -o cancer_sample1_rep2.primary_mapped.sorted.bam && samtools index cancer_sample1_rep2.primary_mapped.sorted.bam\n",
    "!samtools view -F 2308 cancer_sample2_rep2.sorted.bam -o cancer_sample2_rep2.primary_mapped.sorted.bam && samtools index cancer_sample2_rep2.primary_mapped.sorted.bam\n",
    "\n",
    "!samtools view -F 2308 healthy_control_rep3.sorted.bam -o healthy_control_rep3.primary_mapped.sorted.bam && samtools index healthy_control_rep3.primary_mapped.sorted.bam\n",
    "!samtools view -F 2308 cancer_sample1_rep3.sorted.bam -o cancer_sample1_rep3.primary_mapped.sorted.bam && samtools index cancer_sample1_rep3.primary_mapped.sorted.bam\n",
    "!samtools view -F 2308 cancer_sample2_rep3.sorted.bam -o cancer_sample2_rep3.primary_mapped.sorted.bam && samtools index cancer_sample2_rep3.primary_mapped.sorted.bam"
   ]
  },
  {
   "cell_type": "markdown",
   "id": "c9b43438",
   "metadata": {},
   "source": [
    "#### Jak vypadají namapovaná čtení?"
   ]
  },
  {
   "cell_type": "code",
   "execution_count": null,
   "id": "f2afc636",
   "metadata": {},
   "outputs": [],
   "source": [
    "# SPUSTIT IGV DESKTOP"
   ]
  },
  {
   "cell_type": "markdown",
   "id": "f9cf7b56",
   "metadata": {},
   "source": [
    "Výpočet pokrytí (coverage): Poté spočítáme, kolik čtení připadá na každý chromozom nebo jeho část. Čím více přečtení na určitém místě, tím vyšší pokrytí.\n",
    "\n",
    "Vykreslení grafu: Pokrytí zobrazíme v grafu – každý chromozom bude mít svůj sloupec nebo bod. Zdravý vzorek by měl mít zhruba rovnoměrné pokrytí všech chromozomů. Nádorový vzorek ale může mít výrazné výkyvy – některé chromozomy s vyšším nebo nižším pokrytím, což ukazuje na změny v počtu kopií chromozomů (copy number variations)."
   ]
  },
  {
   "cell_type": "markdown",
   "id": "1a67499b",
   "metadata": {},
   "source": [
    "## Vykreslíme a porovnáme pokrytí jednotlivých chromozomů"
   ]
  },
  {
   "cell_type": "markdown",
   "id": "46314e0e",
   "metadata": {},
   "source": [
    "Porovnáme pokrytí celých chromozomů."
   ]
  },
  {
   "cell_type": "code",
   "execution_count": null,
   "id": "ad0ef3a2",
   "metadata": {},
   "outputs": [],
   "source": [
    "%%bash\n",
    "samtools coverage healthy_control_rep1.primary_mapped.sorted.bam | head -n 25 > healthy_control_rep1.coverage.tsv\n",
    "samtools coverage cancer_sample1_rep1.primary_mapped.sorted.bam | head -n 25 > cancer_sample1_rep1.coverage.tsv\n",
    "samtools coverage cancer_sample2_rep1.primary_mapped.sorted.bam | head -n 25 > cancer_sample2_rep1.coverage.tsv\n",
    "samtools coverage healthy_control_rep2.primary_mapped.sorted.bam | head -n 25 > healthy_control_rep2.coverage.tsv\n",
    "samtools coverage cancer_sample1_rep2.primary_mapped.sorted.bam | head -n 25 > cancer_sample1_rep2.coverage.tsv\n",
    "samtools coverage cancer_sample2_rep2.primary_mapped.sorted.bam | head -n 25 > cancer_sample2_rep2.coverage.tsv\n",
    "samtools coverage healthy_control_rep3.primary_mapped.sorted.bam | head -n 25 > healthy_control_rep3.coverage.tsv\n",
    "samtools coverage cancer_sample1_rep3.primary_mapped.sorted.bam | head -n 25 > cancer_sample1_rep3.coverage.tsv\n",
    "samtools coverage cancer_sample2_rep3.primary_mapped.sorted.bam | head -n 25 > cancer_sample2_rep3.coverage.tsv"
   ]
  },
  {
   "cell_type": "code",
   "execution_count": null,
   "id": "71c4f457",
   "metadata": {},
   "outputs": [],
   "source": [
    "healthy_control_rep1_coverage_df = pd.read_csv(\"healthy_control_rep1.coverage.tsv\", sep=\"\\t\", usecols = [\"#rname\", \"startpos\", \"endpos\", \"meandepth\"])\n",
    "healthy_control_rep1_coverage_df.rename(columns={\"meandepth\": \"healthy_control_rep1_coverage\"}, inplace=True)\n",
    "cancer_sample1_rep1_coverage_df = pd.read_csv(\"cancer_sample1_rep1.coverage.tsv\", sep=\"\\t\", usecols = [\"#rname\", \"startpos\", \"endpos\", \"meandepth\"])\n",
    "cancer_sample1_rep1_coverage_df.rename(columns={\"meandepth\": \"cancer_sample1_rep1_coverage\"}, inplace=True)\n",
    "cancer_sample2_rep1_coverage_df = pd.read_csv(\"cancer_sample2_rep1.coverage.tsv\", sep=\"\\t\", usecols = [\"#rname\", \"startpos\", \"endpos\", \"meandepth\"])\n",
    "cancer_sample2_rep1_coverage_df.rename(columns={\"meandepth\": \"cancer_sample2_rep1_coverage\"}, inplace=True)\n",
    "\n",
    "healthy_control_rep2_coverage_df = pd.read_csv(\"healthy_control_rep2.coverage.tsv\", sep=\"\\t\", usecols = [\"#rname\", \"startpos\", \"endpos\", \"meandepth\"])\n",
    "healthy_control_rep2_coverage_df.rename(columns={\"meandepth\": \"healthy_control_rep2_coverage\"}, inplace=True)\n",
    "cancer_sample1_rep2_coverage_df = pd.read_csv(\"cancer_sample1_rep2.coverage.tsv\", sep=\"\\t\", usecols = [\"#rname\", \"startpos\", \"endpos\", \"meandepth\"])\n",
    "cancer_sample1_rep2_coverage_df.rename(columns={\"meandepth\": \"cancer_sample1_rep2_coverage\"}, inplace=True)\n",
    "cancer_sample2_rep2_coverage_df = pd.read_csv(\"cancer_sample2_rep2.coverage.tsv\", sep=\"\\t\", usecols = [\"#rname\", \"startpos\", \"endpos\", \"meandepth\"])\n",
    "cancer_sample2_rep2_coverage_df.rename(columns={\"meandepth\": \"cancer_sample2_rep2_coverage\"}, inplace=True)\n",
    "\n",
    "healthy_control_rep3_coverage_df = pd.read_csv(\"healthy_control_rep3.coverage.tsv\", sep=\"\\t\", usecols = [\"#rname\", \"startpos\", \"endpos\", \"meandepth\"])\n",
    "healthy_control_rep3_coverage_df.rename(columns={\"meandepth\": \"healthy_control_rep3_coverage\"}, inplace=True)\n",
    "cancer_sample1_rep3_coverage_df = pd.read_csv(\"cancer_sample1_rep3.coverage.tsv\", sep=\"\\t\", usecols = [\"#rname\", \"startpos\", \"endpos\", \"meandepth\"])\n",
    "cancer_sample1_rep3_coverage_df.rename(columns={\"meandepth\": \"cancer_sample1_rep3_coverage\"}, inplace=True)\n",
    "cancer_sample2_rep3_coverage_df = pd.read_csv(\"cancer_sample2_rep3.coverage.tsv\", sep=\"\\t\", usecols = [\"#rname\", \"startpos\", \"endpos\", \"meandepth\"])\n",
    "cancer_sample2_rep3_coverage_df.rename(columns={\"meandepth\": \"cancer_sample2_rep3_coverage\"}, inplace=True)"
   ]
  },
  {
   "cell_type": "code",
   "execution_count": null,
   "id": "6cac3520",
   "metadata": {
    "scrolled": true
   },
   "outputs": [],
   "source": [
    "coverages_df = healthy_control_rep1_coverage_df.merge(cancer_sample1_rep1_coverage_df).merge(cancer_sample2_rep1_coverage_df).merge(healthy_control_rep2_coverage_df).merge(cancer_sample1_rep2_coverage_df).merge(cancer_sample2_rep2_coverage_df).merge(healthy_control_rep3_coverage_df).merge(cancer_sample1_rep3_coverage_df).merge(cancer_sample2_rep3_coverage_df)\n",
    "coverages_df"
   ]
  },
  {
   "cell_type": "markdown",
   "id": "cf70f14d",
   "metadata": {},
   "source": [
    "#### Normalizace hloubky sekvenování\n",
    "\n",
    "Po namapování čtení na referenční genom můžeme spočítat, kolikrát byla každá část DNA přečtena — tomu říkáme **pokrytí** (*coverage*). Ale...\n",
    "\n",
    "##### Proč musíme pokrytí normalizovat?\n",
    "\n",
    "Každý vzorek (nebo čárový kód) může mít **různý počet čtení**. Například:\n",
    "\n",
    "- Vzorek A: 10 000 čtení\n",
    "- Vzorek B: 100 000 čtení\n",
    "\n",
    "Pokud bychom porovnávali jejich pokrytí přímo, zdálo by se, že vzorek B má \"více DNA\" — ale to je jen proto, že jsme ho více sekvenovali.\n",
    "\n",
    "Abychom mohli porovnávat vzorky **spravedlivě**, musíme jejich pokrytí **přepočítat na jedno čtení**.\n",
    "\n",
    "##### Jak to uděláme?\n",
    "\n",
    "📌 Pro každý vzorek:\n",
    "1. Spočítáme **pokrytí** (např. kolikrát byla přečtena každá část chromozomu).\n",
    "2. Spočítáme, kolik bylo celkem čtení zarovnaných na celý genom.\n",
    "3. Vydělíme pokrytí počtem čtení → tím dostaneme **normalizované pokrytí**.\n",
    "\n",
    "Díky tomu můžeme porovnat, jestli má některý chromozom (nebo část genomu) vyšší nebo nižší pokrytí **nezávisle na tom, kolik čtení bylo celkem**.\n",
    "\n",
    "To je užitečné například pro hledání **chromozomových aberací** — když je nějaký chromozom přítomen vícekrát nebo chybí."
   ]
  },
  {
   "cell_type": "code",
   "execution_count": null,
   "id": "b5e417d2",
   "metadata": {},
   "outputs": [],
   "source": [
    "%%bash\n",
    "# převedeme bam na fastq abychom mohli spočítat počet čtení na vzorek\n",
    "samtools fastq healthy_control_rep1.primary_mapped.sorted.bam > healthy_control_rep1.primary_mapped.fastq\n",
    "samtools fastq cancer_sample1_rep1.primary_mapped.sorted.bam > cancer_sample1_rep1.primary_mapped.fastq\n",
    "samtools fastq cancer_sample2_rep1.primary_mapped.sorted.bam > cancer_sample2_rep1.primary_mapped.fastq\n",
    "\n",
    "samtools fastq healthy_control_rep2.primary_mapped.sorted.bam > healthy_control_rep2.primary_mapped.fastq\n",
    "samtools fastq cancer_sample1_rep2.primary_mapped.sorted.bam > cancer_sample1_rep2.primary_mapped.fastq\n",
    "samtools fastq cancer_sample2_rep2.primary_mapped.sorted.bam > cancer_sample2_rep2.primary_mapped.fastq\n",
    "\n",
    "samtools fastq healthy_control_rep3.primary_mapped.sorted.bam > healthy_control_rep3.primary_mapped.fastq\n",
    "samtools fastq cancer_sample1_rep3.primary_mapped.sorted.bam > cancer_sample1_rep3.primary_mapped.fastq\n",
    "samtools fastq cancer_sample2_rep3.primary_mapped.sorted.bam > cancer_sample2_rep3.primary_mapped.fastq"
   ]
  },
  {
   "cell_type": "code",
   "execution_count": null,
   "id": "6db6cf59",
   "metadata": {},
   "outputs": [],
   "source": [
    "from Bio import SeqIO\n",
    "\n",
    "def get_read_count(fastq_gz_file):\n",
    "    fastq_path = fastq_gz_file\n",
    "    read_count = 0\n",
    "\n",
    "    for _ in SeqIO.parse(fastq_gz_file, \"fastq\"):\n",
    "        read_count += 1\n",
    "    \n",
    "    return read_count"
   ]
  },
  {
   "cell_type": "code",
   "execution_count": null,
   "id": "a3f4a8ac",
   "metadata": {},
   "outputs": [],
   "source": [
    "# spočítáme počet čtení na vzorek\n",
    "healthy_control_rep1_num_reads = get_read_count(\"healthy_control_rep1.primary_mapped.fastq\")\n",
    "cancer_sample1_rep1_num_reads = get_read_count(\"cancer_sample1_rep1.primary_mapped.fastq\")\n",
    "cancer_sample2_rep1_num_reads = get_read_count(\"cancer_sample2_rep1.primary_mapped.fastq\")\n",
    "\n",
    "healthy_control_rep2_num_reads = get_read_count(\"healthy_control_rep2.primary_mapped.fastq\")\n",
    "cancer_sample1_rep2_num_reads = get_read_count(\"cancer_sample1_rep2.primary_mapped.fastq\")\n",
    "cancer_sample2_rep2_num_reads = get_read_count(\"cancer_sample2_rep2.primary_mapped.fastq\")\n",
    "\n",
    "healthy_control_rep3_num_reads = get_read_count(\"healthy_control_rep3.primary_mapped.fastq\")\n",
    "cancer_sample1_rep3_num_reads = get_read_count(\"cancer_sample1_rep3.primary_mapped.fastq\")\n",
    "cancer_sample2_rep3_num_reads = get_read_count(\"cancer_sample2_rep3.primary_mapped.fastq\")"
   ]
  },
  {
   "cell_type": "code",
   "execution_count": null,
   "id": "90bf714f",
   "metadata": {},
   "outputs": [],
   "source": [
    "# vydělíme tabulku pokrytí počtem čtení\n",
    "multiply_by = 1_000_000\n",
    "coverages_df[\"healthy_control_rep1_coverage\"] = (coverages_df[\"healthy_control_rep1_coverage\"] / healthy_control_rep1_num_reads) * multiply_by\n",
    "coverages_df[\"cancer_sample1_rep1_coverage\"] = (coverages_df[\"cancer_sample1_rep1_coverage\"] / cancer_sample1_rep1_num_reads) * multiply_by\n",
    "coverages_df[\"cancer_sample2_rep1_coverage\"] = (coverages_df[\"cancer_sample2_rep1_coverage\"] / cancer_sample2_rep1_num_reads) * multiply_by\n",
    "\n",
    "coverages_df[\"healthy_control_rep2_coverage\"] = (coverages_df[\"healthy_control_rep2_coverage\"] / healthy_control_rep2_num_reads) * multiply_by\n",
    "coverages_df[\"cancer_sample1_rep2_coverage\"] = (coverages_df[\"cancer_sample1_rep2_coverage\"] / cancer_sample1_rep2_num_reads) * multiply_by\n",
    "coverages_df[\"cancer_sample2_rep2_coverage\"] = (coverages_df[\"cancer_sample2_rep2_coverage\"] / cancer_sample2_rep2_num_reads) * multiply_by\n",
    "\n",
    "coverages_df[\"healthy_control_rep3_coverage\"] = (coverages_df[\"healthy_control_rep3_coverage\"] / healthy_control_rep3_num_reads) * multiply_by\n",
    "coverages_df[\"cancer_sample1_rep3_coverage\"] = (coverages_df[\"cancer_sample1_rep3_coverage\"] / cancer_sample1_rep3_num_reads) * multiply_by\n",
    "coverages_df[\"cancer_sample2_rep3_coverage\"] = (coverages_df[\"cancer_sample2_rep3_coverage\"] / cancer_sample2_rep3_num_reads) * multiply_by"
   ]
  },
  {
   "cell_type": "code",
   "execution_count": null,
   "id": "f2803ce3",
   "metadata": {},
   "outputs": [],
   "source": [
    "coverages_df"
   ]
  },
  {
   "cell_type": "code",
   "execution_count": null,
   "id": "13c38336",
   "metadata": {},
   "outputs": [],
   "source": [
    "fig = px.scatter(coverages_df, x=\"#rname\", y=[\"healthy_control_rep1_coverage\", \"cancer_sample1_rep1_coverage\", \"cancer_sample2_rep1_coverage\", \"healthy_control_rep2_coverage\", \"cancer_sample1_rep2_coverage\", \"cancer_sample2_rep2_coverage\", \"healthy_control_rep3_coverage\", \"cancer_sample1_rep3_coverage\", \"cancer_sample2_rep3_coverage\"], title=\"Pokrytí chromozomů\")\n",
    "fig.update_layout(xaxis_title=\"Chromozom #\", yaxis_title=\"Pokrytí\")\n",
    "fig.update_traces(marker_size=10)\n",
    "fig.show()"
   ]
  },
  {
   "cell_type": "code",
   "execution_count": null,
   "id": "10cfffa7",
   "metadata": {},
   "outputs": [],
   "source": [
    "coverages_df[\"healthy_controls_mean\"] = coverages_df[[\"healthy_control_rep1_coverage\", \"healthy_control_rep2_coverage\", \"healthy_control_rep3_coverage\"]].mean(axis=1) \n",
    "coverages_df[\"cancer_samples1_mean\"] = coverages_df[[\"cancer_sample1_rep1_coverage\", \"cancer_sample1_rep2_coverage\", \"cancer_sample1_rep3_coverage\"]].mean(axis=1)\n",
    "coverages_df[\"cancer_samples2_mean\"] = coverages_df[[\"cancer_sample2_rep1_coverage\", \"cancer_sample2_rep2_coverage\", \"cancer_sample2_rep3_coverage\"]].mean(axis=1)"
   ]
  },
  {
   "cell_type": "code",
   "execution_count": null,
   "id": "649d2dfd",
   "metadata": {},
   "outputs": [],
   "source": [
    "fig = px.scatter(coverages_df, x=\"#rname\", y=[\"healthy_controls_mean\", \"cancer_samples1_mean\", \"cancer_samples2_mean\"], title=\"Pokrytí chromozomů zprůměrované přes replikáty\")\n",
    "fig.update_traces(marker_size=10)\n",
    "fig.update_layout(xaxis_title=\"Chromozom #\", yaxis_title=\"Pokrytí\")\n",
    "fig.show()"
   ]
  },
  {
   "cell_type": "markdown",
   "id": "50c800c1",
   "metadata": {},
   "source": [
    "A nyní se podíváme na pokrytí zblízka."
   ]
  },
  {
   "cell_type": "code",
   "execution_count": null,
   "id": "f6d68b99",
   "metadata": {},
   "outputs": [],
   "source": [
    "# spočítáme pokrytí podél chromozomů\n",
    "# !bedtools genomecov -ibam healthy_control_rep1.primary_mapped.sorted.bam -bga > healthy_control_rep1.depth.bedGraph\n",
    "# !bedtools genomecov -ibam cancer_sample1_rep1.primary_mapped.sorted.bam -bga > cancer_sample1_rep1.depth.bedGraph\n",
    "# !bedtools genomecov -ibam cancer_sample2_rep1.primary_mapped.sorted.bam -bga > cancer_sample2_rep1.depth.bedGraph\n",
    "\n",
    "# !bedtools genomecov -ibam healthy_control_rep2.primary_mapped.sorted.bam -bga > healthy_control_rep2.depth.bedGraph\n",
    "# !bedtools genomecov -ibam cancer_sample1_rep2.primary_mapped.sorted.bam -bga > cancer_sample1_rep2.depth.bedGraph\n",
    "# !bedtools genomecov -ibam cancer_sample2_rep2.primary_mapped.sorted.bam -bga > cancer_sample2_rep2.depth.bedGraph\n",
    "\n",
    "# !bedtools genomecov -ibam healthy_control_rep3.primary_mapped.sorted.bam -bga > healthy_control_rep3.depth.bedGraph\n",
    "# !bedtools genomecov -ibam cancer_sample1_rep3.primary_mapped.sorted.bam -bga > cancer_sample1_rep3.depth.bedGraph\n",
    "# !bedtools genomecov -ibam cancer_sample2_rep3.primary_mapped.sorted.bam -bga > cancer_sample2_rep3.depth.bedGraph"
   ]
  },
  {
   "cell_type": "markdown",
   "id": "93611022",
   "metadata": {},
   "source": [
    "Spočítáme pokrytí v oknech o velikosti 50 000 bází."
   ]
  },
  {
   "cell_type": "code",
   "execution_count": null,
   "id": "9c889c66",
   "metadata": {},
   "outputs": [],
   "source": [
    "%%bash\n",
    "samtools faidx Homo_sapiens.GRCh38.dna.toplevel.fa\n",
    "cut -f1,2 Homo_sapiens.GRCh38.dna.toplevel.fa.fai > chrom.sizes\n",
    "\n",
    "bedtools makewindows -g chrom.sizes -w 50000 > 50kbps_windows.bed"
   ]
  },
  {
   "cell_type": "code",
   "execution_count": null,
   "id": "788c3541",
   "metadata": {},
   "outputs": [],
   "source": [
    "%%bash\n",
    "bedtools coverage -a 50kbps_windows.bed -b healthy_control_rep1.primary_mapped.sorted.bam > healthy_control_rep1.coverage_50kbps_windows.tsv\n",
    "bedtools coverage -a 50kbps_windows.bed -b cancer_sample1_rep1.primary_mapped.sorted.bam > cancer_sample1_rep1.coverage_50kbps_windows.tsv\n",
    "bedtools coverage -a 50kbps_windows.bed -b cancer_sample2_rep1.primary_mapped.sorted.bam > cancer_sample2_rep1.coverage_50kbps_windows.tsv\n",
    "\n",
    "bedtools coverage -a 50kbps_windows.bed -b healthy_control_rep2.primary_mapped.sorted.bam > healthy_control_rep2.coverage_50kbps_windows.tsv\n",
    "bedtools coverage -a 50kbps_windows.bed -b cancer_sample1_rep2.primary_mapped.sorted.bam > cancer_sample1_rep2.coverage_50kbps_windows.tsv\n",
    "bedtools coverage -a 50kbps_windows.bed -b cancer_sample2_rep2.primary_mapped.sorted.bam > cancer_sample2_rep2.coverage_50kbps_windows.tsv\n",
    "\n",
    "bedtools coverage -a 50kbps_windows.bed -b healthy_control_rep3.primary_mapped.sorted.bam > healthy_control_rep3.coverage_50kbps_windows.tsv\n",
    "bedtools coverage -a 50kbps_windows.bed -b cancer_sample1_rep3.primary_mapped.sorted.bam > cancer_sample1_rep3.coverage_50kbps_windows.tsv\n",
    "bedtools coverage -a 50kbps_windows.bed -b cancer_sample2_rep3.primary_mapped.sorted.bam > cancer_sample2_rep3.coverage_50kbps_windows.tsv"
   ]
  },
  {
   "cell_type": "code",
   "execution_count": null,
   "id": "4d7480d0",
   "metadata": {},
   "outputs": [],
   "source": [
    "use_cols = [0, 1, 2, 3]\n",
    "\n",
    "healthy_control_rep1_depth_df = pd.read_csv(\"healthy_control_rep1.coverage_50kbps_windows.tsv\", header=None, sep=\"\\t\", low_memory=False, usecols=use_cols, names=[\"chrom\", \"window_start\", \"window_end\", \"overlapping_features_healthy_control_rep1\"])\n",
    "cancer_sample1_rep1_depth_df = pd.read_csv(\"cancer_sample1_rep1.coverage_50kbps_windows.tsv\", header=None, sep=\"\\t\", low_memory=False, usecols=use_cols, names=[\"chrom\", \"window_start\", \"window_end\", \"overlapping_features_cancer_sample1_rep1\"])\n",
    "cancer_sample2_rep1_depth_df = pd.read_csv(\"cancer_sample2_rep1.coverage_50kbps_windows.tsv\", header=None, sep=\"\\t\", low_memory=False, usecols=use_cols, names=[\"chrom\", \"window_start\", \"window_end\", \"overlapping_features_cancer_sample2_rep1\"])\n",
    "\n",
    "healthy_control_rep2_depth_df = pd.read_csv(\"healthy_control_rep2.coverage_50kbps_windows.tsv\", header=None, sep=\"\\t\", low_memory=False, usecols=use_cols, names=[\"chrom\", \"window_start\", \"window_end\", \"overlapping_features_healthy_control_rep2\"])\n",
    "cancer_sample1_rep2_depth_df = pd.read_csv(\"cancer_sample1_rep2.coverage_50kbps_windows.tsv\", header=None, sep=\"\\t\", low_memory=False, usecols=use_cols, names=[\"chrom\", \"window_start\", \"window_end\", \"overlapping_features_cancer_sample1_rep2\"])\n",
    "cancer_sample2_rep2_depth_df = pd.read_csv(\"cancer_sample2_rep2.coverage_50kbps_windows.tsv\", header=None, sep=\"\\t\", low_memory=False, usecols=use_cols, names=[\"chrom\", \"window_start\", \"window_end\", \"overlapping_features_cancer_sample2_rep2\"])\n",
    "\n",
    "healthy_control_rep3_depth_df = pd.read_csv(\"healthy_control_rep3.coverage_50kbps_windows.tsv\", header=None, sep=\"\\t\", low_memory=False, usecols=use_cols, names=[\"chrom\", \"window_start\", \"window_end\", \"overlapping_features_healthy_control_rep3\"])\n",
    "cancer_sample1_rep3_depth_df = pd.read_csv(\"cancer_sample1_rep3.coverage_50kbps_windows.tsv\", header=None, sep=\"\\t\", low_memory=False, usecols=use_cols, names=[\"chrom\", \"window_start\", \"window_end\", \"overlapping_features_cancer_sample1_rep3\"])\n",
    "cancer_sample2_rep3_depth_df = pd.read_csv(\"cancer_sample2_rep3.coverage_50kbps_windows.tsv\", header=None, sep=\"\\t\", low_memory=False, usecols=use_cols, names=[\"chrom\", \"window_start\", \"window_end\", \"overlapping_features_cancer_sample2_rep3\"])"
   ]
  },
  {
   "cell_type": "code",
   "execution_count": null,
   "id": "03dc85b1",
   "metadata": {},
   "outputs": [],
   "source": [
    "merge_on_cols = [\"chrom\",\"window_start\", \"window_end\"]\n",
    "depths_df = healthy_control_rep1_depth_df.merge(cancer_sample1_rep1_depth_df, on=merge_on_cols).merge(cancer_sample2_rep1_depth_df, on=merge_on_cols).merge(healthy_control_rep2_depth_df, on=merge_on_cols).merge(cancer_sample1_rep2_depth_df, on=merge_on_cols).merge(cancer_sample2_rep2_depth_df, on=merge_on_cols).merge(healthy_control_rep3_depth_df, on=merge_on_cols).merge(cancer_sample1_rep3_depth_df, on=merge_on_cols).merge(cancer_sample2_rep3_depth_df, on=merge_on_cols)\n",
    "depths_df"
   ]
  },
  {
   "cell_type": "code",
   "execution_count": null,
   "id": "25a171a4",
   "metadata": {},
   "outputs": [],
   "source": [
    "# normalizujeme na hloubku sekvenace\n",
    "# vydělíme tabulku pokrytí počtem čtení\n",
    "multiply_by = 1_000\n",
    "depths_df[\"overlapping_features_healthy_control_rep1\"] = (depths_df[\"overlapping_features_healthy_control_rep1\"] / healthy_control_rep1_num_reads) * multiply_by\n",
    "depths_df[\"overlapping_features_cancer_sample1_rep1\"] = (depths_df[\"overlapping_features_cancer_sample1_rep1\"] / cancer_sample1_rep1_num_reads) * multiply_by\n",
    "depths_df[\"overlapping_features_cancer_sample2_rep1\"] = (depths_df[\"overlapping_features_cancer_sample2_rep1\"] / cancer_sample2_rep1_num_reads) * multiply_by\n",
    "\n",
    "depths_df[\"overlapping_features_healthy_control_rep2\"] = (depths_df[\"overlapping_features_healthy_control_rep2\"] / healthy_control_rep2_num_reads) * multiply_by\n",
    "depths_df[\"overlapping_features_cancer_sample1_rep2\"] = (depths_df[\"overlapping_features_cancer_sample1_rep2\"] / cancer_sample1_rep2_num_reads) * multiply_by\n",
    "depths_df[\"overlapping_features_cancer_sample2_rep2\"] = (depths_df[\"overlapping_features_cancer_sample2_rep2\"] / cancer_sample2_rep2_num_reads) * multiply_by\n",
    "\n",
    "depths_df[\"overlapping_features_healthy_control_rep3\"] = (depths_df[\"overlapping_features_healthy_control_rep3\"] / healthy_control_rep3_num_reads) * multiply_by\n",
    "depths_df[\"overlapping_features_cancer_sample1_rep3\"] = (depths_df[\"overlapping_features_cancer_sample1_rep3\"] / cancer_sample1_rep3_num_reads) * multiply_by\n",
    "depths_df[\"overlapping_features_cancer_sample2_rep3\"] = (depths_df[\"overlapping_features_cancer_sample2_rep3\"] / cancer_sample2_rep3_num_reads) * multiply_by"
   ]
  },
  {
   "cell_type": "code",
   "execution_count": null,
   "id": "defd5845",
   "metadata": {},
   "outputs": [],
   "source": [
    "depths_df"
   ]
  },
  {
   "cell_type": "code",
   "execution_count": null,
   "id": "da816dd7",
   "metadata": {},
   "outputs": [],
   "source": [
    "import plotly.express as px\n",
    "\n",
    "def plot_chromosome_coverage(chrom_num, df):\n",
    "    df_subset = df.loc[df[\"chrom\"] == str(chrom_num), ]\n",
    "    fig = px.line(df_subset, x=\"window_start\", y=[\"overlapping_features_healthy_control_rep1\", \"overlapping_features_cancer_sample1_rep1\", \"overlapping_features_cancer_sample2_rep1\", \"overlapping_features_healthy_control_rep2\", \"overlapping_features_cancer_sample1_rep2\", \"overlapping_features_cancer_sample2_rep2\", \"overlapping_features_healthy_control_rep3\", \"overlapping_features_cancer_sample1_rep3\", \"overlapping_features_cancer_sample2_rep3\"], title=f\"Pokrytí chromozomu {chrom_num}\", line_shape=\"hv\")\n",
    "    fig.update_layout(xaxis_title=\"Souřadnice\", yaxis_title=\"Pokrytí\")\n",
    "    fig.show()"
   ]
  },
  {
   "cell_type": "code",
   "execution_count": null,
   "id": "83a22daa",
   "metadata": {},
   "outputs": [],
   "source": [
    "plot_chromosome_coverage(1, depths_df)"
   ]
  },
  {
   "cell_type": "code",
   "execution_count": null,
   "id": "f950e034",
   "metadata": {},
   "outputs": [],
   "source": [
    "plot_chromosome_coverage(2, depths_df)"
   ]
  },
  {
   "cell_type": "code",
   "execution_count": null,
   "id": "8f52eed3",
   "metadata": {},
   "outputs": [],
   "source": [
    "plot_chromosome_coverage(3, depths_df)"
   ]
  },
  {
   "cell_type": "code",
   "execution_count": null,
   "id": "22c3e59c",
   "metadata": {},
   "outputs": [],
   "source": [
    "plot_chromosome_coverage(4, depths_df)"
   ]
  },
  {
   "cell_type": "code",
   "execution_count": null,
   "id": "55c78eab",
   "metadata": {},
   "outputs": [],
   "source": [
    "plot_chromosome_coverage(5, depths_df)"
   ]
  },
  {
   "cell_type": "code",
   "execution_count": null,
   "id": "be8973f4",
   "metadata": {},
   "outputs": [],
   "source": [
    "plot_chromosome_coverage(6, depths_df)"
   ]
  },
  {
   "cell_type": "code",
   "execution_count": null,
   "id": "9aa5bd12",
   "metadata": {},
   "outputs": [],
   "source": [
    "plot_chromosome_coverage(7, depths_df)"
   ]
  },
  {
   "cell_type": "code",
   "execution_count": null,
   "id": "5844e443",
   "metadata": {},
   "outputs": [],
   "source": [
    "plot_chromosome_coverage(8, depths_df)"
   ]
  },
  {
   "cell_type": "code",
   "execution_count": null,
   "id": "28ef6436",
   "metadata": {},
   "outputs": [],
   "source": [
    "plot_chromosome_coverage(9, depths_df)"
   ]
  },
  {
   "cell_type": "code",
   "execution_count": null,
   "id": "1e8794b1",
   "metadata": {},
   "outputs": [],
   "source": [
    "plot_chromosome_coverage(10, depths_df)"
   ]
  },
  {
   "cell_type": "code",
   "execution_count": null,
   "id": "e5828431",
   "metadata": {},
   "outputs": [],
   "source": [
    "plot_chromosome_coverage(11, depths_df)"
   ]
  },
  {
   "cell_type": "code",
   "execution_count": null,
   "id": "62f047cc",
   "metadata": {},
   "outputs": [],
   "source": [
    "plot_chromosome_coverage(12, depths_df)"
   ]
  },
  {
   "cell_type": "code",
   "execution_count": null,
   "id": "8cefed23",
   "metadata": {},
   "outputs": [],
   "source": [
    "plot_chromosome_coverage(13, depths_df)"
   ]
  },
  {
   "cell_type": "code",
   "execution_count": null,
   "id": "dfbb0067",
   "metadata": {},
   "outputs": [],
   "source": [
    "plot_chromosome_coverage(14, depths_df)"
   ]
  },
  {
   "cell_type": "code",
   "execution_count": null,
   "id": "c888b38f",
   "metadata": {},
   "outputs": [],
   "source": [
    "plot_chromosome_coverage(15, depths_df)"
   ]
  },
  {
   "cell_type": "code",
   "execution_count": null,
   "id": "a4549ce4",
   "metadata": {},
   "outputs": [],
   "source": [
    "plot_chromosome_coverage(16, depths_df)"
   ]
  },
  {
   "cell_type": "code",
   "execution_count": null,
   "id": "617292a1",
   "metadata": {},
   "outputs": [],
   "source": [
    "plot_chromosome_coverage(17, depths_df)"
   ]
  },
  {
   "cell_type": "code",
   "execution_count": null,
   "id": "01747282",
   "metadata": {},
   "outputs": [],
   "source": [
    "plot_chromosome_coverage(18, depths_df)"
   ]
  },
  {
   "cell_type": "code",
   "execution_count": null,
   "id": "a253e975",
   "metadata": {},
   "outputs": [],
   "source": [
    "plot_chromosome_coverage(19, depths_df)"
   ]
  },
  {
   "cell_type": "code",
   "execution_count": null,
   "id": "c82e40e8",
   "metadata": {},
   "outputs": [],
   "source": [
    "plot_chromosome_coverage(20, depths_df)"
   ]
  },
  {
   "cell_type": "code",
   "execution_count": null,
   "id": "47cfbe3f",
   "metadata": {},
   "outputs": [],
   "source": [
    "plot_chromosome_coverage(21, depths_df)"
   ]
  },
  {
   "cell_type": "code",
   "execution_count": null,
   "id": "14579a9d",
   "metadata": {},
   "outputs": [],
   "source": [
    "plot_chromosome_coverage(22, depths_df)"
   ]
  },
  {
   "cell_type": "code",
   "execution_count": null,
   "id": "bb036bc7",
   "metadata": {},
   "outputs": [],
   "source": [
    "plot_chromosome_coverage(\"X\", depths_df)"
   ]
  },
  {
   "cell_type": "code",
   "execution_count": null,
   "id": "ac7c123a",
   "metadata": {},
   "outputs": [],
   "source": [
    "plot_chromosome_coverage(\"Y\", depths_df)"
   ]
  }
 ],
 "metadata": {
  "kernelspec": {
   "display_name": "Python 3 (ipykernel)",
   "language": "python",
   "name": "python3"
  },
  "language_info": {
   "codemirror_mode": {
    "name": "ipython",
    "version": 3
   },
   "file_extension": ".py",
   "mimetype": "text/x-python",
   "name": "python",
   "nbconvert_exporter": "python",
   "pygments_lexer": "ipython3",
   "version": "3.10.17"
  }
 },
 "nbformat": 4,
 "nbformat_minor": 5
}
